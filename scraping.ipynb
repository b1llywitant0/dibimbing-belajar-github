{
 "cells": [
  {
   "cell_type": "code",
   "execution_count": 31,
   "metadata": {},
   "outputs": [],
   "source": [
    "def get_coordinates(location:str):\n",
    "    # Importing libraries\n",
    "    import pandas as pd\n",
    "    import numpy as np\n",
    "    from selenium import webdriver\n",
    "    from selenium.webdriver.common.by import By\n",
    "    from selenium.webdriver.support.wait import WebDriverWait\n",
    "    from selenium.common.exceptions import TimeoutException\n",
    "    from tqdm import tqdm_notebook as tqdmn\n",
    "\n",
    "    # URL of location\n",
    "    url = 'https://www.google.com/maps/search/'+location\n",
    "\n",
    "    # Getting coordinates\n",
    "    options = webdriver.ChromeOptions()\n",
    "    options.add_argument('--no-sandbox')\n",
    "    options.add_argument('--disable-dev-shm-usage')\n",
    "    browser = webdriver.Chrome(options=options)     \n",
    "    browser.get(url)\n",
    "\n",
    "    url_with_coordinates = browser.find_element(By.CSS_SELECTOR,'meta[itemprop=image]').get_attribute('content')\n",
    "\n",
    "    browser.close()\n",
    "\n",
    "    # Extracting coordinates\n",
    "    lat = url_with_coordinates.split('?center=')[1].split('&zoom=')[0].split('%2C')[0]\n",
    "    long = url_with_coordinates.split('?center=')[1].split('&zoom=')[0].split('%2C')[1]\n",
    "\n",
    "    # Saving coordinates\n",
    "    coordinates = pd.read_csv('coordinates.csv')\n",
    "    coordinates.loc[-1] = [location,lat,long]\n",
    "    coordinates.index = coordinates.index + 1  # Shifting index\n",
    "    coordinates = coordinates.sort_index()  # Sorting by index\n",
    "    coordinates.to_csv('coordinates.csv',index=False) # Overwriting\n",
    "\n",
    "    return lat, long"
   ]
  },
  {
   "cell_type": "code",
   "execution_count": null,
   "metadata": {},
   "outputs": [],
   "source": [
    "get_coordinates()"
   ]
  }
 ],
 "metadata": {
  "kernelspec": {
   "display_name": "Python 3",
   "language": "python",
   "name": "python3"
  },
  "language_info": {
   "codemirror_mode": {
    "name": "ipython",
    "version": 3
   },
   "file_extension": ".py",
   "mimetype": "text/x-python",
   "name": "python",
   "nbconvert_exporter": "python",
   "pygments_lexer": "ipython3",
   "version": "3.9.7"
  }
 },
 "nbformat": 4,
 "nbformat_minor": 2
}
